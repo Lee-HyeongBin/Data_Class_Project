{
 "cells": [
  {
   "cell_type": "code",
   "execution_count": 1,
   "metadata": {
    "ExecuteTime": {
     "end_time": "2020-11-12T12:07:22.252723Z",
     "start_time": "2020-11-12T12:07:20.315904Z"
    }
   },
   "outputs": [],
   "source": [
    "from selenium import webdriver\n",
    "from selenium.webdriver.common.keys import Keys\n",
    "from bs4 import BeautifulSoup\n",
    "import time\n",
    "import pandas as pd\n",
    "from datetime import datetime\n",
    "import re"
   ]
  },
  {
   "cell_type": "code",
   "execution_count": 2,
   "metadata": {
    "ExecuteTime": {
     "end_time": "2020-11-12T12:07:24.015007Z",
     "start_time": "2020-11-12T12:07:22.291620Z"
    }
   },
   "outputs": [
    {
     "name": "stdout",
     "output_type": "stream",
     "text": [
      "5\n"
     ]
    }
   ],
   "source": [
    "today = input()  # ex) 오늘날짜 5일이면 5 입력"
   ]
  },
  {
   "cell_type": "code",
   "execution_count": 3,
   "metadata": {
    "ExecuteTime": {
     "end_time": "2020-11-12T12:07:24.053072Z",
     "start_time": "2020-11-12T12:07:24.043932Z"
    }
   },
   "outputs": [],
   "source": [
    "search_list = ['Korean literature', 'Koreanische Literatur', 'Корейская литература', 'Kore edebiyatı', 'Littérature coréenne', 'Văn học hàn quốc', 'Корейська література', 'Koreai irodalom', 'Korean kirjallisuus',\n",
    "               'Literatura koreańska', 'الأدب الكوري', 'Koreansk litteratur', 'Корејска књижевност', 'Κορεατική λογοτεχνία', '韓国文学', '韩国文学', 'Koreaanse literatuur', 'Koreansk litteratur', 'Literatura coreana', 'Korejská literatura']\n",
    "for i in range(len(search_list)):\n",
    "    search_list[i] = search_list[i].replace(' ','+')"
   ]
  },
  {
   "cell_type": "code",
   "execution_count": 4,
   "metadata": {
    "ExecuteTime": {
     "end_time": "2020-11-12T12:07:24.140672Z",
     "start_time": "2020-11-12T12:07:24.093797Z"
    }
   },
   "outputs": [
    {
     "name": "stdout",
     "output_type": "stream",
     "text": [
      "['2020', '11', '5']\n",
      "['2020', '11', '5']\n",
      "['2020', '11', '5']\n",
      "['2020', '11', '5']\n",
      "['2020', '11', '5']\n",
      "['2020', '11', '5']\n",
      "['2020', '11', '5']\n",
      "['2020', '11', '5']\n",
      "['2020', '11', '5']\n",
      "['2020', '11', '5']\n",
      "['2020', '11', '5']\n",
      "['2020', '11', '5']\n",
      "['2020', '11', '5']\n",
      "['2020', '11', '5']\n",
      "['2020', '11', '5']\n",
      "['2020', '11', '5']\n",
      "['2020', '11', '5']\n",
      "['2020', '11', '5']\n",
      "['2020', '11', '5']\n",
      "['2020', '11', '5']\n"
     ]
    }
   ],
   "source": [
    "answer = []\n",
    "date_30 = [4, 6, 9, 11]\n",
    "date_28 = [2]\n",
    "date_31 = [1, 3, 5, 7, 8, 10, 12]\n",
    "\n",
    "\n",
    "def datetime(y, m1, m2):  # 2017,9,12 하면 2017년 9월에서 12월까지의 일별 url\n",
    "    url_result = dict()  # 결과\n",
    "\n",
    "    for name_s in search_list:\n",
    "        for i in range(m1, m2+1):\n",
    "            month = i\n",
    "            if i in date_31:\n",
    "                for j in range(int(today), int(today)+1):\n",
    "                    day = j\n",
    "                    month_day = str(y)+\"-\"+str(i)+\"-\"+str(j)\n",
    "                    date = ['2020', str(i), today]\n",
    "                    duration = '%2Ccd_min%3A{0}%2F{1}%2F{2}%2Ccd_max%3A{3}%2F{4}%2F{5}'.format(\n",
    "                        date[1], date[2], date[0], date[1], date[2], date[0])\n",
    "                    base_url = 'https://www.google.co.kr/search?' + 'q=%22' + name_s + '%22' + '&biw=1168&bih=879&source=lnt&tbs=cdr%3A1' + duration + '&tbm=nws'\n",
    "                    url_result[month_day] = base_url\n",
    "            elif i in date_28:\n",
    "                for j in range(int(today), int(today)+1):\n",
    "                    day = j\n",
    "                    month_day = str(y)+\"-\"+str(i)+\"-\"+str(j)\n",
    "                    date = ['2020', str(i), today]\n",
    "                    duration = '%2Ccd_min%3A{0}%2F{1}%2F{2}%2Ccd_max%3A{3}%2F{4}%2F{5}'.format(\n",
    "                        date[1], date[2], date[0], date[1], date[2], date[0])\n",
    "                    base_url = 'https://www.google.co.kr/search?' + 'q=%22' + name_s + '%22' + '&biw=1168&bih=879&source=lnt&tbs=cdr%3A1' + duration + '&tbm=nws'\n",
    "                    url_result[month_day] = base_url\n",
    "            else:\n",
    "                for j in range(int(today), int(today)+1):\n",
    "                    day = j\n",
    "                    month_day = str(y)+\"-\"+str(i)+\"-\"+str(j)\n",
    "                    date = ['2020', str(i), today]\n",
    "                    print(date)\n",
    "                    duration = '%2Ccd_min%3A{0}%2F{1}%2F{2}%2Ccd_max%3A{3}%2F{4}%2F{5}'.format(\n",
    "                        date[1], date[2], date[0], date[1], date[2], date[0])\n",
    "                    base_url = 'https://www.google.co.kr/search?' + 'q=%22' + name_s + '%22' + '&biw=1168&bih=879&source=lnt&tbs=cdr%3A1' + duration + '&tbm=nws'\n",
    "                    url_result[month_day] = base_url\n",
    "                    answer.append(base_url)\n",
    "    return url_result\n",
    "\n",
    "d1 = datetime(2020,11,11)"
   ]
  },
  {
   "cell_type": "code",
   "execution_count": 5,
   "metadata": {
    "ExecuteTime": {
     "end_time": "2020-11-12T12:07:27.095296Z",
     "start_time": "2020-11-12T12:07:27.090781Z"
    }
   },
   "outputs": [],
   "source": [
    "DATE = [a for a in d1.keys()]\n",
    "url_list = [a for a in answer]"
   ]
  },
  {
   "cell_type": "code",
   "execution_count": 8,
   "metadata": {
    "ExecuteTime": {
     "end_time": "2020-11-12T12:07:44.971945Z",
     "start_time": "2020-11-12T12:07:44.937086Z"
    }
   },
   "outputs": [
    {
     "ename": "WebDriverException",
     "evalue": "Message: 'chromedriver.exe' executable needs to be in PATH. Please see https://sites.google.com/a/chromium.org/chromedriver/home\n",
     "output_type": "error",
     "traceback": [
      "\u001b[1;31m---------------------------------------------------------------------------\u001b[0m",
      "\u001b[1;31mFileNotFoundError\u001b[0m                         Traceback (most recent call last)",
      "\u001b[1;32m~\\anaconda3\\lib\\site-packages\\selenium\\webdriver\\common\\service.py\u001b[0m in \u001b[0;36mstart\u001b[1;34m(self)\u001b[0m\n\u001b[0;32m     71\u001b[0m             \u001b[0mcmd\u001b[0m\u001b[1;33m.\u001b[0m\u001b[0mextend\u001b[0m\u001b[1;33m(\u001b[0m\u001b[0mself\u001b[0m\u001b[1;33m.\u001b[0m\u001b[0mcommand_line_args\u001b[0m\u001b[1;33m(\u001b[0m\u001b[1;33m)\u001b[0m\u001b[1;33m)\u001b[0m\u001b[1;33m\u001b[0m\u001b[1;33m\u001b[0m\u001b[0m\n\u001b[1;32m---> 72\u001b[1;33m             self.process = subprocess.Popen(cmd, env=self.env,\n\u001b[0m\u001b[0;32m     73\u001b[0m                                             \u001b[0mclose_fds\u001b[0m\u001b[1;33m=\u001b[0m\u001b[0mplatform\u001b[0m\u001b[1;33m.\u001b[0m\u001b[0msystem\u001b[0m\u001b[1;33m(\u001b[0m\u001b[1;33m)\u001b[0m \u001b[1;33m!=\u001b[0m \u001b[1;34m'Windows'\u001b[0m\u001b[1;33m,\u001b[0m\u001b[1;33m\u001b[0m\u001b[1;33m\u001b[0m\u001b[0m\n",
      "\u001b[1;32m~\\anaconda3\\lib\\subprocess.py\u001b[0m in \u001b[0;36m__init__\u001b[1;34m(self, args, bufsize, executable, stdin, stdout, stderr, preexec_fn, close_fds, shell, cwd, env, universal_newlines, startupinfo, creationflags, restore_signals, start_new_session, pass_fds, encoding, errors, text)\u001b[0m\n\u001b[0;32m    853\u001b[0m \u001b[1;33m\u001b[0m\u001b[0m\n\u001b[1;32m--> 854\u001b[1;33m             self._execute_child(args, executable, preexec_fn, close_fds,\n\u001b[0m\u001b[0;32m    855\u001b[0m                                 \u001b[0mpass_fds\u001b[0m\u001b[1;33m,\u001b[0m \u001b[0mcwd\u001b[0m\u001b[1;33m,\u001b[0m \u001b[0menv\u001b[0m\u001b[1;33m,\u001b[0m\u001b[1;33m\u001b[0m\u001b[1;33m\u001b[0m\u001b[0m\n",
      "\u001b[1;32m~\\anaconda3\\lib\\subprocess.py\u001b[0m in \u001b[0;36m_execute_child\u001b[1;34m(self, args, executable, preexec_fn, close_fds, pass_fds, cwd, env, startupinfo, creationflags, shell, p2cread, p2cwrite, c2pread, c2pwrite, errread, errwrite, unused_restore_signals, unused_start_new_session)\u001b[0m\n\u001b[0;32m   1306\u001b[0m             \u001b[1;32mtry\u001b[0m\u001b[1;33m:\u001b[0m\u001b[1;33m\u001b[0m\u001b[1;33m\u001b[0m\u001b[0m\n\u001b[1;32m-> 1307\u001b[1;33m                 hp, ht, pid, tid = _winapi.CreateProcess(executable, args,\n\u001b[0m\u001b[0;32m   1308\u001b[0m                                          \u001b[1;31m# no special security\u001b[0m\u001b[1;33m\u001b[0m\u001b[1;33m\u001b[0m\u001b[1;33m\u001b[0m\u001b[0m\n",
      "\u001b[1;31mFileNotFoundError\u001b[0m: [WinError 2] 지정된 파일을 찾을 수 없습니다",
      "\nDuring handling of the above exception, another exception occurred:\n",
      "\u001b[1;31mWebDriverException\u001b[0m                        Traceback (most recent call last)",
      "\u001b[1;32m<ipython-input-8-68cea2d4866d>\u001b[0m in \u001b[0;36m<module>\u001b[1;34m\u001b[0m\n\u001b[0;32m     30\u001b[0m \u001b[1;33m\u001b[0m\u001b[0m\n\u001b[0;32m     31\u001b[0m \u001b[1;33m\u001b[0m\u001b[0m\n\u001b[1;32m---> 32\u001b[1;33m \u001b[0mdriver\u001b[0m \u001b[1;33m=\u001b[0m \u001b[0mwebdriver\u001b[0m\u001b[1;33m.\u001b[0m\u001b[0mChrome\u001b[0m\u001b[1;33m(\u001b[0m\u001b[1;34mr\"C:\\Users\\USER\\Downloads\\chromedriver_win32\\chromedriver.exe\"\u001b[0m\u001b[1;33m)\u001b[0m\u001b[1;33m\u001b[0m\u001b[1;33m\u001b[0m\u001b[0m\n\u001b[0m\u001b[0;32m     33\u001b[0m \u001b[0mdriver\u001b[0m\u001b[1;33m.\u001b[0m\u001b[0mset_page_load_timeout\u001b[0m\u001b[1;33m(\u001b[0m\u001b[1;34m\"10\"\u001b[0m\u001b[1;33m)\u001b[0m\u001b[1;33m\u001b[0m\u001b[1;33m\u001b[0m\u001b[0m\n",
      "\u001b[1;32m~\\anaconda3\\lib\\site-packages\\selenium\\webdriver\\chrome\\webdriver.py\u001b[0m in \u001b[0;36m__init__\u001b[1;34m(self, executable_path, port, options, service_args, desired_capabilities, service_log_path, chrome_options, keep_alive)\u001b[0m\n\u001b[0;32m     71\u001b[0m             \u001b[0mservice_args\u001b[0m\u001b[1;33m=\u001b[0m\u001b[0mservice_args\u001b[0m\u001b[1;33m,\u001b[0m\u001b[1;33m\u001b[0m\u001b[1;33m\u001b[0m\u001b[0m\n\u001b[0;32m     72\u001b[0m             log_path=service_log_path)\n\u001b[1;32m---> 73\u001b[1;33m         \u001b[0mself\u001b[0m\u001b[1;33m.\u001b[0m\u001b[0mservice\u001b[0m\u001b[1;33m.\u001b[0m\u001b[0mstart\u001b[0m\u001b[1;33m(\u001b[0m\u001b[1;33m)\u001b[0m\u001b[1;33m\u001b[0m\u001b[1;33m\u001b[0m\u001b[0m\n\u001b[0m\u001b[0;32m     74\u001b[0m \u001b[1;33m\u001b[0m\u001b[0m\n\u001b[0;32m     75\u001b[0m         \u001b[1;32mtry\u001b[0m\u001b[1;33m:\u001b[0m\u001b[1;33m\u001b[0m\u001b[1;33m\u001b[0m\u001b[0m\n",
      "\u001b[1;32m~\\anaconda3\\lib\\site-packages\\selenium\\webdriver\\common\\service.py\u001b[0m in \u001b[0;36mstart\u001b[1;34m(self)\u001b[0m\n\u001b[0;32m     79\u001b[0m         \u001b[1;32mexcept\u001b[0m \u001b[0mOSError\u001b[0m \u001b[1;32mas\u001b[0m \u001b[0merr\u001b[0m\u001b[1;33m:\u001b[0m\u001b[1;33m\u001b[0m\u001b[1;33m\u001b[0m\u001b[0m\n\u001b[0;32m     80\u001b[0m             \u001b[1;32mif\u001b[0m \u001b[0merr\u001b[0m\u001b[1;33m.\u001b[0m\u001b[0merrno\u001b[0m \u001b[1;33m==\u001b[0m \u001b[0merrno\u001b[0m\u001b[1;33m.\u001b[0m\u001b[0mENOENT\u001b[0m\u001b[1;33m:\u001b[0m\u001b[1;33m\u001b[0m\u001b[1;33m\u001b[0m\u001b[0m\n\u001b[1;32m---> 81\u001b[1;33m                 raise WebDriverException(\n\u001b[0m\u001b[0;32m     82\u001b[0m                     \"'%s' executable needs to be in PATH. %s\" % (\n\u001b[0;32m     83\u001b[0m                         os.path.basename(self.path), self.start_error_message)\n",
      "\u001b[1;31mWebDriverException\u001b[0m: Message: 'chromedriver.exe' executable needs to be in PATH. Please see https://sites.google.com/a/chromium.org/chromedriver/home\n"
     ]
    }
   ],
   "source": [
    "def get_company_url(a):\n",
    "    driver.get(a)\n",
    "    # driver를 이용하여 가져오기\n",
    "    contents_url = driver.find_elements_by_css_selector(\"a.l.lLrAF\")\n",
    "    contents_comp = driver.find_elements_by_css_selector('div.gG0TJc')\n",
    "\n",
    "    # 각 url과 뉴스사를 리스트로 만들기\n",
    "    list_company = []\n",
    "    for i in contents_comp:\n",
    "        a = i.find_elements_by_css_selector('span.xQ82C.e8fRJf')\n",
    "        for j in a:\n",
    "            list_company.append(j.text)\n",
    "\n",
    "    list_url = []\n",
    "    for i in contents_url:\n",
    "        list_url.append(i.get_attribute('href'))\n",
    "\n",
    "    list_title = []\n",
    "    for i in contents_url:\n",
    "        list_title.append(i.text)\n",
    "\n",
    "    # dataframe으로 만들기\n",
    "    list_merge = [list_company, list_title, list_url]\n",
    "    col_names = ['company', 'title', 'url']\n",
    "    df_ = pd.DataFrame(list_merge)\n",
    "    df = df_.T\n",
    "    df.columns = col_names\n",
    "\n",
    "    return df\n",
    "\n",
    "\n",
    "driver = webdriver.Chrome(r\"C:\\Users\\USER\\Downloads\\chromedriver_win32\\chromedriver.exe\")\n",
    "driver.set_page_load_timeout(\"10\")"
   ]
  },
  {
   "cell_type": "code",
   "execution_count": null,
   "metadata": {
    "ExecuteTime": {
     "end_time": "2020-11-12T12:07:28.882985Z",
     "start_time": "2020-11-12T12:07:28.430Z"
    }
   },
   "outputs": [],
   "source": [
    "FINAL = []\n",
    "cnt = 0\n",
    "for URL in url_list[:]:\n",
    "    \n",
    "    time.sleep(1)\n",
    "    driver.get(URL)  # 페이지 입장\n",
    "    time.sleep(1)\n",
    "\n",
    "    print(\"웹페이지 인덱스\", url_list.index(URL), \"/\", len(url_list))\n",
    "    r1 = get_company_url(URL)\n",
    "    FINAL.append(r1)\n",
    "\n",
    "    for count in range(999):\n",
    "        driver.save_screenshot('screenshot' + str(cnt) + '.png')\n",
    "        if count == 0:\n",
    "            try:\n",
    "                soup = BeautifulSoup(driver.page_source)\n",
    "                h1 = soup.find_all(\"a\", class_=\"pn\")\n",
    "                h2 = 'http://www.google.com'+h1[0]['href']  # 다음버튼 url\n",
    "                driver.get(h2)\n",
    "                time.sleep(3)\n",
    "            except Exception as ex:\n",
    "                print('더이상 \"페이지\" 없음', ex)\n",
    "                break\n",
    "        else:\n",
    "            k3 = k3 + 1\n",
    "            try:\n",
    "                soup = BeautifulSoup(driver.page_source)\n",
    "                h1 = soup.find_all(\"a\", class_=\"pn\")\n",
    "                h2 = 'http://www.google.com'+h1[1]['href']  # 다음버튼 url\n",
    "                driver.get(h2)\n",
    "                time.sleep(3)\n",
    "            except Exception as ex:\n",
    "                print('더이상 \"페이지\" 없음', ex)\n",
    "                break\n",
    "    cnt = cnt+1\n",
    "\n",
    "driver.close()\n",
    "result = pd.concat(FINAL)\n",
    "print(result)"
   ]
  }
 ],
 "metadata": {
  "kernelspec": {
   "display_name": "Python 3",
   "language": "python",
   "name": "python3"
  },
  "language_info": {
   "codemirror_mode": {
    "name": "ipython",
    "version": 3
   },
   "file_extension": ".py",
   "mimetype": "text/x-python",
   "name": "python",
   "nbconvert_exporter": "python",
   "pygments_lexer": "ipython3",
   "version": "3.8.5"
  },
  "toc": {
   "base_numbering": 1,
   "nav_menu": {},
   "number_sections": true,
   "sideBar": true,
   "skip_h1_title": false,
   "title_cell": "Table of Contents",
   "title_sidebar": "Contents",
   "toc_cell": false,
   "toc_position": {},
   "toc_section_display": true,
   "toc_window_display": false
  },
  "varInspector": {
   "cols": {
    "lenName": 16,
    "lenType": 16,
    "lenVar": 40
   },
   "kernels_config": {
    "python": {
     "delete_cmd_postfix": "",
     "delete_cmd_prefix": "del ",
     "library": "var_list.py",
     "varRefreshCmd": "print(var_dic_list())"
    },
    "r": {
     "delete_cmd_postfix": ") ",
     "delete_cmd_prefix": "rm(",
     "library": "var_list.r",
     "varRefreshCmd": "cat(var_dic_list()) "
    }
   },
   "types_to_exclude": [
    "module",
    "function",
    "builtin_function_or_method",
    "instance",
    "_Feature"
   ],
   "window_display": false
  }
 },
 "nbformat": 4,
 "nbformat_minor": 4
}
